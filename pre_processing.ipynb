{
 "cells": [
  {
   "cell_type": "code",
   "execution_count": 6,
   "metadata": {},
   "outputs": [],
   "source": [
    "import numpy as np\n",
    "import cv2\n",
    "import pandas as pd\n",
    "import matplotlib.pyplot as plt\n",
    "import random\n",
    "from scipy.ndimage.measurements import center_of_mass"
   ]
  },
  {
   "cell_type": "code",
   "execution_count": 7,
   "metadata": {},
   "outputs": [],
   "source": [
    "\"\"\"\n",
    "Extract images from npy files\n",
    "\"\"\"\n",
    "train_x = np.load('train_images.npy', encoding='latin1')\n",
    "train_x = np.array([arr[1] for arr in train_x], np.uint8)\n",
    "train_y = np.array(pd.read_csv('train_labels.csv', usecols=['Category']))\n",
    "\n",
    "test_x = np.load('test_images.npy', encoding='latin1')\n",
    "test_x = np.array([arr[1] for arr in test_x], np.uint8)\n",
    "test_y = np.array(pd.read_csv('test_labels.csv', usecols=['Category']) "
   ]
  },
  {
   "cell_type": "code",
   "execution_count": 56,
   "metadata": {},
   "outputs": [],
   "source": [
    "\"\"\"\n",
    "Finding contours for the\n",
    "given greyscale image\n",
    "\n",
    "@param\n",
    "    :type np.array img_gray - greyscale version of the image\n",
    "\n",
    "@return\n",
    "    :rtype np.array - the image\n",
    "    :rtype np.array - contours found for the image\n",
    "\n",
    "\"\"\"\n",
    "def find_contours(img_gray):\n",
    "    ret, thresh = cv2.threshold(img_gray, 127, 255, 0)\n",
    "    thresh = thresh.astype('uint8')\n",
    "    image, contours, hierarchy = cv2.findContours(thresh, cv2.RETR_EXTERNAL, cv2.CHAIN_APPROX_NONE)\n",
    "    return image, contours"
   ]
  },
  {
   "cell_type": "code",
   "execution_count": 64,
   "metadata": {},
   "outputs": [],
   "source": [
    "\"\"\"\n",
    "Cleaning out the noise from the\n",
    "image based on the contours found\n",
    "using find_contours(img_gray)\n",
    "\n",
    "@param\n",
    "    :type int idx - idx of image from the dataset of images\n",
    "    \n",
    "@return\n",
    "    :rtpe np.array - cleaned version of the image\n",
    "\"\"\"\n",
    "\n",
    "def clean_noise_by_contours(idx):\n",
    "    img_gray = train_x[idx].reshape(100, 100)\n",
    "    image, contours = find_contours(img_gray)\n",
    "    num_contour = len(contours)\n",
    "    \n",
    "    max_area = 0\n",
    "    max_area_idx = 0\n",
    "    for i in range(0, num_contour):\n",
    "        contour = contours[i]\n",
    "        area = cv2.contourArea(contour)\n",
    "        if area > max_area:\n",
    "            max_area = area\n",
    "            max_area_idx = i\n",
    "    \n",
    "    for i in range(0, num_contour):\n",
    "        if i != max_area_idx:\n",
    "            cv2.drawContours(image, contours, i, -1, 3)\n",
    "            \n",
    "    plt.imshow(image)\n",
    "    return image"
   ]
  },
  {
   "cell_type": "code",
   "execution_count": null,
   "metadata": {},
   "outputs": [],
   "source": [
    "\"\"\"\n",
    "Crop the cleaned image to\n",
    "return just the drawing\n",
    "in a smaller square\n",
    "\n",
    "@param\n",
    "    :type np.array cleaned_img - cleaned image\n",
    "    \n",
    "@return\n",
    "    :rtype np.array - cropped version of the cleaned image\n",
    "\"\"\"\n",
    "\n",
    "def cropImage(cleaned_img):\n",
    "    sq_side_length = 30\n",
    "    sq_half_side = sq_side_length/2\n",
    "    center_h, center_w = center_of_mass(cleaned_img)\n",
    "    top_h = int(center_h - sq_half_side)\n",
    "    bottom_h = int(center_h + sq_half_side)\n",
    "    left_w = int(center_w - sq_half_side)\n",
    "    right_w = int(center_w + sq_half_side)\n",
    "    cropped_img = cleaned_img[top_h:bottom_h + 1, left_w:right_w + 1]\n",
    "    plt.imshow(cropped_img)\n",
    "#     return cropped_img"
   ]
  },
  {
   "cell_type": "code",
   "execution_count": null,
   "metadata": {},
   "outputs": [],
   "source": [
    "\"\"\"\n",
    "Rotates the given image \n",
    "by 'angle' degrees\n",
    "\n",
    "@param\n",
    "    :type np.array img - image to rotate\n",
    "    :type int angle - angle in degrees to rotate by\n",
    "    \n",
    "@return\n",
    "    :rtype np.array - original image rotated by 'angle' degrees\n",
    "\"\"\"\n",
    "\n",
    "def rotate(img, angle):\n",
    "    rows, cols = img.shape\n",
    "\n",
    "    M = cv2.getRotationMatrix2D((cols/2,rows/2), angle, 1)\n",
    "    dst = cv2.warpAffine(img, M, (cols,rows))\n",
    "    plt.imshow(dst)\n",
    "    return dst"
   ]
  },
  {
   "cell_type": "code",
   "execution_count": 65,
   "metadata": {},
   "outputs": [
    {
     "name": "stdout",
     "output_type": "stream",
     "text": [
      "['rollerskates']\n"
     ]
    },
    {
     "data": {
      "image/png": "[encoded data removed]",
      "text/plain": [
       "<Figure size 432x288 with 1 Axes>"
      ]
     },
     "metadata": {},
     "output_type": "display_data"
    }
   ],
   "source": [
    "idx = random.randint(0, 9999)\n",
    "cleaned_img = clean_noise_by_contours(idx)\n",
    "print(train_y_list[idx])"
   ]
  },
  {
   "cell_type": "code",
   "execution_count": 73,
   "metadata": {},
   "outputs": [
    {
     "data": {
      "image/png": "[encoded data removed]",
      "text/plain": [
       "<Figure size 432x288 with 1 Axes>"
      ]
     },
     "metadata": {},
     "output_type": "display_data"
    }
   ],
   "source": [
    "cropImage(cleaned_img)"
   ]
  },
  {
   "cell_type": "code",
   "execution_count": null,
   "metadata": {},
   "outputs": [],
   "source": [
    "rotate(clean_img, 90)"
   ]
  },
  {
   "cell_type": "code",
   "execution_count": null,
   "metadata": {},
   "outputs": [],
   "source": [
    "class image:\n",
    "    def __init__(self, raw):\n",
    "        self.raw = raw\n",
    "        # self.img is a cv2 array\n",
    "        self.img = self.raw.reshape(100, 100)\n",
    "        # grayscaled image\n",
    "        self.grayscaled_img = cv2.cvtColor(self.img, cv2.COLOR_GRAY2BGR)\n",
    "        # resize grayscaled image\n",
    "        self.gray = cv2.resize(self.grayscaled_img, (100, 100))\n",
    "        # grayscaled image after max pooling\n",
    "        self.resized_img = None\n",
    "        \n",
    "    def show(self, img):\n",
    "        plt.imshow(img)\n",
    "\n",
    "    def clean_noise(self):\n",
    "        img = self.gray\n",
    "        ret, threshold = cv2.threshold(img, 127, 255, cv2.THRESH_BINARY)[1]\n",
    "        im2, contours, hierarchy = cv2.findContours(threshold, cv2.RETR_FLOODFILL, cv2.CHAIN_APPROX_NONE)\n",
    "        self.show(im2)\n",
    "        return contours\n",
    "        \n",
    "                \n",
    "    # A technique to reduce the dimensions of an image by taking the maximum pixel value of a grid. \n",
    "    # This also helps reduce over-fitting and makes the model more generic. \n",
    "    def max_pooling(self, side_len):\n",
    "        slice_x = 100/side_len\n",
    "        slice_y = slice_x\n",
    "        res = np.zeros((slice_x, slice_y))\n",
    "        for i in range(0, slice_x):\n",
    "            for j in range(0, slice_y):\n",
    "                max = 0\n",
    "                for p in range(i*side_len, (i+1)*side_len):\n",
    "                    for q in range(j*side_len, (j+1)*side_len):\n",
    "                        val = self.grayscaled_img[p][q]\n",
    "                        if val>max: \n",
    "                            max = val\n",
    "                res[i][j] = max\n",
    "        self.resized_img = res\n",
    "        return res"
   ]
  }
 ],
 "metadata": {
  "kernelspec": {
   "display_name": "Python 3",
   "language": "python",
   "name": "python3"
  },
  "language_info": {
   "codemirror_mode": {
    "name": "ipython",
    "version": 3
   },
   "file_extension": ".py",
   "mimetype": "text/x-python",
   "name": "python",
   "nbconvert_exporter": "python",
   "pygments_lexer": "ipython3",
   "version": "3.5.2"
  }
 },
 "nbformat": 4,
 "nbformat_minor": 1
}
