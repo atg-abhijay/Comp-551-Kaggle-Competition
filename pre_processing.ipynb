{
 "cells": [
  {
   "cell_type": "code",
   "execution_count": 1,
   "metadata": {},
   "outputs": [],
   "source": [
    "import numpy as np\n",
    "import cv2\n",
    "import pandas as pd\n",
    "import matplotlib.pyplot as plt\n",
    "import random\n",
    "from scipy.ndimage.measurements import center_of_mass\n",
    "from tqdm import tqdm_notebook as tqdm"
   ]
  },
  {
   "cell_type": "code",
   "execution_count": 2,
   "metadata": {},
   "outputs": [],
   "source": [
    "\"\"\"\n",
    "Extract images from npy files\n",
    "\"\"\"\n",
    "train_x = np.load('train_images.npy', encoding='latin1')\n",
    "train_x = np.array([arr[1] for arr in train_x], np.uint8)\n",
    "train_x = np.array([train_x[idx].reshape(100, 100) for idx in range(len(train_x))], np.uint8)\n",
    "train_y = np.array(pd.read_csv('train_labels.csv', usecols=['Category']))\n",
    "\n",
    "test_x = np.load('test_images.npy', encoding='latin1')\n",
    "test_x = np.array([arr[1] for arr in test_x], np.uint8)\n",
    "test_x = np.array([test_x[idx].reshape(100, 100) for idx in range(len(test_x))], np.uint8)"
   ]
  },
  {
   "cell_type": "code",
   "execution_count": 3,
   "metadata": {},
   "outputs": [
    {
     "data": {
      "text/plain": [
       "array(['mug'], dtype=object)"
      ]
     },
     "execution_count": 3,
     "metadata": {},
     "output_type": "execute_result"
    },
    {
     "data": {
      "image/png": "[encoded data removed]",
      "text/plain": [
       "<Figure size 432x288 with 1 Axes>"
      ]
     },
     "metadata": {},
     "output_type": "display_data"
    }
   ],
   "source": [
    "plt.imshow(train_x[243])\n",
    "train_x[463].shape\n",
    "train_y[243]"
   ]
  },
  {
   "cell_type": "code",
   "execution_count": 4,
   "metadata": {},
   "outputs": [],
   "source": [
    "def find_contours(img_gray):\n",
    "    \"\"\"\n",
    "    Finding contours for the\n",
    "    given greyscale image\n",
    "\n",
    "    @param\n",
    "        :type np.array img_gray - greyscale version of the image\n",
    "\n",
    "    @return\n",
    "        :rtype np.array - the image\n",
    "        :rtype np.array - contours found for the image\n",
    "\n",
    "    \"\"\"\n",
    "    ret, thresh = cv2.threshold(img_gray, 127, 255, 0)\n",
    "    thresh = thresh.astype('uint8')\n",
    "    image, contours, hierarchy = cv2.findContours(thresh, cv2.RETR_EXTERNAL, cv2.CHAIN_APPROX_NONE)\n",
    "    return image, contours"
   ]
  },
  {
   "cell_type": "code",
   "execution_count": 5,
   "metadata": {},
   "outputs": [],
   "source": [
    "def clean_noise_by_contours(image, contours):\n",
    "    \"\"\"\n",
    "    Cleaning out the noise from the\n",
    "    image based on the contours found\n",
    "    using find_contours(img_gray)\n",
    "\n",
    "    @param\n",
    "        :type np.array image - image to clean\n",
    "        :type np.arary contours - contours found for the image\n",
    "\n",
    "    @return\n",
    "        :rtpe np.array - cleaned version of the image\n",
    "        \n",
    "    \"\"\"\n",
    "#     img_gray = train_x[idx].reshape(100, 100)\n",
    "#     image, contours = find_contours(img_gray)\n",
    "    num_contour = len(contours)\n",
    "    \n",
    "    max_area = 0\n",
    "    max_area_idx = 0\n",
    "    for i in range(0, num_contour):\n",
    "        contour = contours[i]\n",
    "        area = cv2.contourArea(contour)\n",
    "        if area > max_area:\n",
    "            max_area = area\n",
    "            max_area_idx = i\n",
    "    \n",
    "    for i in range(0, num_contour):\n",
    "        if i != max_area_idx:\n",
    "            cv2.drawContours(image, contours, i, -1, 3)\n",
    "            \n",
    "    plt.imshow(image)\n",
    "    return image"
   ]
  },
  {
   "cell_type": "code",
   "execution_count": 6,
   "metadata": {},
   "outputs": [],
   "source": [
    "def cropImage(cleaned_img):\n",
    "    \"\"\"\n",
    "    Crop the cleaned image to\n",
    "    return just the drawing\n",
    "    in a smaller square of side 30.\n",
    "\n",
    "    @param\n",
    "        :type np.array cleaned_img - cleaned image\n",
    "\n",
    "    @return\n",
    "        :rtype np.array - cropped version of the cleaned image\n",
    "    \"\"\"\n",
    "    sq_side_length = 30\n",
    "    sq_half_side = int(sq_side_length/2)\n",
    "    center_h, center_w = center_of_mass(cleaned_img)\n",
    "    center_h = int(center_h)\n",
    "    center_w = int(center_w)\n",
    "    ######\n",
    "#     print(\"center\", center_h, center_w)\n",
    "    top_h = center_h - sq_half_side\n",
    "    bottom_h = center_h + sq_half_side\n",
    "    left_w = center_w - sq_half_side\n",
    "    right_w = center_w + sq_half_side\n",
    "    ######\n",
    "#     print(top_h, bottom_h, left_w, right_w)\n",
    "    \n",
    "#     top_h = check_within_bounds(top_h, sq_side_length)\n",
    "#     bottom_h = check_within_bounds(bottom_h, sq_side_length)\n",
    "#     left_w = check_within_bounds(left_w, sq_side_length)\n",
    "#     right_w = check_within_bounds(right_w, sq_side_length)\n",
    "    \n",
    "    new_val_bound = check_within_bounds(top_h)\n",
    "    top_h = new_val_bound[0]\n",
    "    bottom_h += new_val_bound[1]\n",
    "    \n",
    "    new_val_bound = check_within_bounds(bottom_h)\n",
    "    bottom_h = new_val_bound[0]\n",
    "    top_h -= new_val_bound[1]\n",
    "    \n",
    "    new_val_bound = check_within_bounds(left_w)\n",
    "    left_w = new_val_bound[0]\n",
    "    right_w += new_val_bound[1]\n",
    "    \n",
    "    new_val_bound = check_within_bounds(right_w)\n",
    "    right_w = new_val_bound[0]\n",
    "    left_w -= new_val_bound[1]\n",
    "    \n",
    "    ######\n",
    "#     print(top_h, bottom_h, left_w, right_w)\n",
    "    \n",
    "    cropped_img = cleaned_img[top_h: bottom_h, left_w: right_w]\n",
    "    plt.imshow(cropped_img)\n",
    "    return cropped_img"
   ]
  },
  {
   "cell_type": "code",
   "execution_count": 7,
   "metadata": {},
   "outputs": [],
   "source": [
    "def check_within_bounds(val_to_check):\n",
    "    if val_to_check < 0:\n",
    "        return 0, 0 - val_to_check\n",
    "    elif val_to_check > 100:\n",
    "        return 100, val_to_check - 100\n",
    "    else:\n",
    "        return val_to_check, 0"
   ]
  },
  {
   "cell_type": "code",
   "execution_count": 8,
   "metadata": {},
   "outputs": [],
   "source": [
    "def rotate(img, angle):\n",
    "    \"\"\"\n",
    "    Rotates the given image \n",
    "    by 'angle' degrees\n",
    "\n",
    "    @param\n",
    "        :type np.array img - image to rotate\n",
    "        :type int angle - angle in degrees to rotate by\n",
    "\n",
    "    @return\n",
    "        :rtype np.array - original image rotated by 'angle' degrees\n",
    "        \n",
    "    \"\"\"\n",
    "    rows, cols = img.shape\n",
    "    #########\n",
    "#     print(\"dimensions\", rows, cols)\n",
    "    M = cv2.getRotationMatrix2D((cols/2,rows/2), angle, 1)\n",
    "    dst = cv2.warpAffine(img, M, (cols,rows))\n",
    "    plt.imshow(dst)\n",
    "    return dst"
   ]
  },
  {
   "cell_type": "code",
   "execution_count": 9,
   "metadata": {},
   "outputs": [
    {
     "data": {
      "text/plain": [
       "<matplotlib.image.AxesImage at 0xb2b49ac18>"
      ]
     },
     "execution_count": 9,
     "metadata": {},
     "output_type": "execute_result"
    },
    {
     "data": {
      "image/png": "[encoded data removed]",
      "text/plain": [
       "<Figure size 432x288 with 1 Axes>"
      ]
     },
     "metadata": {},
     "output_type": "display_data"
    }
   ],
   "source": [
    "plt.imshow(train_x[0])"
   ]
  },
  {
   "cell_type": "code",
   "execution_count": 10,
   "metadata": {},
   "outputs": [
    {
     "data": {
      "application/vnd.jupyter.widget-view+json": {
       "model_id": "7f6b88907a4d474ba742bd43882b57df",
       "version_major": 2,
       "version_minor": 0
      },
      "text/plain": [
       "HBox(children=(IntProgress(value=0, max=10000), HTML(value='')))"
      ]
     },
     "metadata": {},
     "output_type": "display_data"
    },
    {
     "name": "stdout",
     "output_type": "stream",
     "text": [
      "\n"
     ]
    },
    {
     "data": {
      "image/png": "[encoded data removed]",
      "text/plain": [
       "<Figure size 432x288 with 1 Axes>"
      ]
     },
     "metadata": {},
     "output_type": "display_data"
    }
   ],
   "source": [
    "\"\"\"\n",
    "Generating processed images\n",
    "\"\"\"\n",
    "processed_images = []\n",
    "rotated_images = []\n",
    "rotated_labels = []\n",
    "# for i in tqdm(range(10000)):\n",
    "#####\n",
    "count = 0\n",
    "for train_pic in tqdm(train_x):\n",
    "    #####\n",
    "#     print()\n",
    "#     print(\"number\", count)\n",
    "    image, contours = find_contours(train_pic)\n",
    "    cleaned_img = clean_noise_by_contours(image, contours)\n",
    "    cnt = contours[0]\n",
    "    cropped_img = cropImage(cleaned_img)\n",
    "    processed_images.append(cropped_img)\n",
    "    for j in range(1, 6):\n",
    "        rotated_img = rotate(cropped_img, 60*j)\n",
    "        rotated_images.append(rotated_img)\n",
    "    \n",
    "    rotated_labels += [train_y[count] for k in range(5)]\n",
    "    #####\n",
    "    count += 1\n",
    "\n",
    "processed_images += rotated_images\n",
    "processed_images = np.array(processed_images)\n",
    "np_rotated_labels = np.array(rotated_labels)\n",
    "processed_labels = np.concatenate((train_y, np_rotated_labels))"
   ]
  },
  {
   "cell_type": "code",
   "execution_count": 11,
   "metadata": {},
   "outputs": [
    {
     "data": {
      "text/plain": [
       "60000"
      ]
     },
     "execution_count": 11,
     "metadata": {},
     "output_type": "execute_result"
    }
   ],
   "source": [
    "g = 3000\n",
    "processed_images[]\n",
    "processed_labels[]"
   ]
  },
  {
   "cell_type": "code",
   "execution_count": null,
   "metadata": {},
   "outputs": [],
   "source": [
    "\"\"\"\n",
    "Analysis\n",
    "\"\"\"\n",
    "g = 18\n",
    "# plt.imshow(train_x[g])\n",
    "train_y[g]\n",
    "\n",
    "image, contours = find_contours(train_x[18])\n",
    "cleaned_img = clean_noise_by_contours(image, contours)\n",
    "cnt = contours[0]\n",
    "cropped_img = cropImageBoundRect(cleaned_img, cnt)\n",
    "print(cropped_img.shape)\n",
    "plt.imshow(cropped_img)"
   ]
  },
  {
   "cell_type": "code",
   "execution_count": null,
   "metadata": {},
   "outputs": [],
   "source": [
    "idx = 5034\n",
    "cleaned_img = clean_noise_by_contours(idx)\n",
    "# print(train_y_list[idx])"
   ]
  },
  {
   "cell_type": "code",
   "execution_count": null,
   "metadata": {},
   "outputs": [],
   "source": [
    "cropped_img = cropImage(cleaned_img)"
   ]
  },
  {
   "cell_type": "code",
   "execution_count": null,
   "metadata": {},
   "outputs": [],
   "source": [
    "print(type(cropped_img))\n",
    "rotated_img = rotate(cropped_img, 45)"
   ]
  },
  {
   "cell_type": "code",
   "execution_count": null,
   "metadata": {},
   "outputs": [],
   "source": [
    "class image:\n",
    "    def __init__(self, raw):\n",
    "        self.raw = raw\n",
    "        # self.img is a cv2 array\n",
    "        self.img = self.raw.reshape(100, 100)\n",
    "        # grayscaled image\n",
    "        self.grayscaled_img = cv2.cvtColor(self.img, cv2.COLOR_GRAY2BGR)\n",
    "        # resize grayscaled image\n",
    "        self.gray = cv2.resize(self.grayscaled_img, (100, 100))\n",
    "        # grayscaled image after max pooling\n",
    "        self.resized_img = None\n",
    "        \n",
    "    def show(self, img):\n",
    "        plt.imshow(img)\n",
    "\n",
    "    def clean_noise(self):\n",
    "        img = self.gray\n",
    "        ret, threshold = cv2.threshold(img, 127, 255, cv2.THRESH_BINARY)[1]\n",
    "        im2, contours, hierarchy = cv2.findContours(threshold, cv2.RETR_FLOODFILL, cv2.CHAIN_APPROX_NONE)\n",
    "        self.show(im2)\n",
    "        return contours\n",
    "        \n",
    "                \n",
    "    # A technique to reduce the dimensions of an image by taking the maximum pixel value of a grid. \n",
    "    # This also helps reduce over-fitting and makes the model more generic. \n",
    "    def max_pooling(self, side_len):\n",
    "        slice_x = 100/side_len\n",
    "        slice_y = slice_x\n",
    "        res = np.zeros((slice_x, slice_y))\n",
    "        for i in range(0, slice_x):\n",
    "            for j in range(0, slice_y):\n",
    "                max = 0\n",
    "                for p in range(i*side_len, (i+1)*side_len):\n",
    "                    for q in range(j*side_len, (j+1)*side_len):\n",
    "                        val = self.grayscaled_img[p][q]\n",
    "                        if val>max: \n",
    "                            max = val\n",
    "                res[i][j] = max\n",
    "        self.resized_img = res\n",
    "        return res"
   ]
  }
 ],
 "metadata": {
  "kernelspec": {
   "display_name": "Python 3",
   "language": "python",
   "name": "python3"
  },
  "language_info": {
   "codemirror_mode": {
    "name": "ipython",
    "version": 3
   },
   "file_extension": ".py",
   "mimetype": "text/x-python",
   "name": "python",
   "nbconvert_exporter": "python",
   "pygments_lexer": "ipython3",
   "version": "3.5.2"
  }
 },
 "nbformat": 4,
 "nbformat_minor": 1
}
